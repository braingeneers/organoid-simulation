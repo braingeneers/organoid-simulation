{
 "cells": [
  {
   "cell_type": "markdown",
   "metadata": {},
   "source": [
    "## Organoid simulation\n",
    "\n",
    "This notebook is based on Mason's method to simulate organoids. It uses a stochastic model to determine which neurons will fire at t+1 based on neurons firing at t. See Mason's model description."
   ]
  },
  {
   "cell_type": "code",
   "execution_count": 1,
   "metadata": {},
   "outputs": [
    {
     "name": "stderr",
     "output_type": "stream",
     "text": [
      "/Applications/Anaconda/anaconda3/lib/python3.6/site-packages/h5py/__init__.py:34: FutureWarning: Conversion of the second argument of issubdtype from `float` to `np.floating` is deprecated. In future, it will be treated as `np.float64 == np.dtype(float).type`.\n",
      "  from ._conv import register_converters as _register_converters\n"
     ]
    }
   ],
   "source": [
    "%matplotlib inline\n",
    "import matplotlib.pyplot as plt\n",
    "import numpy as np\n",
    "np.random.seed(42)\n",
    "\n",
    "import json\n",
    "import tensorflow as tf\n",
    "tf.enable_eager_execution()"
   ]
  },
  {
   "cell_type": "markdown",
   "metadata": {},
   "source": [
    "Added inhibitory neurons to the total population: User can pick a proportion of inhibitory neurons which will be randomly picked in the neuron vector.\n",
    "\n",
    "In the case of inhibitory neurons, neuron  $j$ firing at time  $t$ will cause neuron  $i$ to NOT fire at time  $t+1$. So we take the inverse of this probability so that in the product of $(1-p_{i,j})$ , inhibitory neurons firing will decrease the probability of neuron $i$ firing.\n",
    "\n",
    "This simple model may need refinement as the biology of neuron inhibition is slightly different.\n",
    "\n",
    "Also, we added a refractory period: if a neuron was firing at $t$, it won't be able to fire at $t+1$, no matter what the probability would have been."
   ]
  },
  {
   "cell_type": "markdown",
   "metadata": {},
   "source": [
    "## Model Initialization"
   ]
  },
  {
   "cell_type": "code",
   "execution_count": 6,
   "metadata": {
    "collapsed": true
   },
   "outputs": [],
   "source": [
    "# Number of neurons\n",
    "neurons = 1000\n",
    "\n",
    "# Proportion of inhibitory neurons in the neuron population\n",
    "prop_inhib = 0.2\n",
    "\n",
    "# Generates a boolean array determining which neurons are inhibitory.\n",
    "inhib_idx = np.random.choice(neurons, int(prop_inhib*neurons))\n",
    "inhib = np.zeros(neurons, dtype=np.bool)\n",
    "inhib[inhib_idx] = True\n",
    "\n",
    "# Probability matrix - initialize randomly. Hackily based on measuring \n",
    "# a DIFFERENT probability P(cell i fires after cell i) in the biophysical\n",
    "# model and assuming that this is about 5 times less since about 5\n",
    "# cells fire per timestep in that model.\n",
    "probability_matrix = np.random.exponential(size=(neurons,neurons), scale=0.005)/5\n",
    "\n",
    "# Neurons state - initialize randomly, 10% active before start.\n",
    "initial_state = np.random.random(neurons) < 0.1\n",
    "\n",
    "# Stimulate for t_stim, then measure for t_meas. Total simulation t_total.\n",
    "t_stim = 1000\n",
    "t_meas = 100\n",
    "t_total = t_stim + t_meas\n",
    "\n",
    "# Implement stimulation by making spontaneous firing rate a function of\n",
    "# position. At the center of stimulation, cells fire spontaneously at\n",
    "# about 100Hz, while at the periphery, spontaneous activity is about 1Hz.\n",
    "n_probes = 8\n",
    "mu = lambda stim_region: neurons/n_probes * (stim_region + 1/2)\n",
    "sigma = neurons / n_probes / 10\n",
    "def threshold(timestep, stim_region):\n",
    "    return 1e-3 + 1e-1 * np.exp(-((np.arange(neurons) - mu(stim_region)) / sigma)**2) * (timestep < t_stim)"
   ]
  },
  {
   "cell_type": "markdown",
   "metadata": {},
   "source": [
    "## Optimized version of next_state"
   ]
  },
  {
   "cell_type": "code",
   "execution_count": 7,
   "metadata": {
    "collapsed": true
   },
   "outputs": [],
   "source": [
    "def next_state(neurons, probability_matrix, previous_state, timestep, stim_region):\n",
    "    \"\"\"\n",
    "    Get new state t+1 of active/inactive neurons by using probabilities of firing.\n",
    "    \n",
    "    Args:\n",
    "        neurons (int): number of neurons to be simulated.\n",
    "        probability_matrix (np.array): probability of neuron j firing at t causing neuron i to fire at t+1.\n",
    "        previous_state (np.array): vector of neuron states at t .\n",
    "        \n",
    "    Returns:\n",
    "        next_state (np.array): vector of neuron states at t+1.\n",
    "    \"\"\"\n",
    "    # Probability that cell j will NOT affect cell i.\n",
    "    # Restrict attention to cells that are firing.\n",
    "    inh_prod = np.prod(1 - probability_matrix[:, inhib & previous_state], axis=1)\n",
    "    exc_prod = np.prod(1 - probability_matrix[:, ~inhib & previous_state], axis=1)\n",
    "    expectation_values = (1 - exc_prod) * inh_prod\n",
    "    \n",
    "    expectation_values[np.random.random(neurons) < threshold(timestep, stim_region)] = 1\n",
    "    \n",
    "    return (np.random.random(neurons) < expectation_values) & (previous_state==0)"
   ]
  },
  {
   "cell_type": "code",
   "execution_count": 8,
   "metadata": {},
   "outputs": [
    {
     "name": "stdout",
     "output_type": "stream",
     "text": [
      "CPU times: user 285 ms, sys: 5.11 ms, total: 290 ms\n",
      "Wall time: 287 ms\n"
     ]
    }
   ],
   "source": [
    "%%time\n",
    "states= np.zeros((t_total+1, neurons), dtype=np.bool)\n",
    "states[0,:] = initial_state\n",
    "for t in range(t_total):\n",
    "    states[t+1,:] = next_state(neurons, probability_matrix, states[t,:], t, 1)"
   ]
  },
  {
   "cell_type": "code",
   "execution_count": 9,
   "metadata": {},
   "outputs": [
    {
     "data": {
      "text/plain": [
       "<matplotlib.text.Text at 0x13065a9b0>"
      ]
     },
     "execution_count": 9,
     "metadata": {},
     "output_type": "execute_result"
    },
    {
     "data": {
      "image/png": "[encoded data removed]",
      "text/plain": [
       "<matplotlib.figure.Figure at 0x12e4d0908>"
      ]
     },
     "metadata": {},
     "output_type": "display_data"
    }
   ],
   "source": [
    "plt.figure(figsize=(10,20))\n",
    "plt.imshow(states.T)\n",
    "plt.xlabel(\"Time\")\n",
    "plt.ylabel(\"Neuron\")\n",
    "plt.title(\"Neuron Firings Over Time\")\n",
    "# plt.savefig('my-version.png')"
   ]
  },
  {
   "cell_type": "markdown",
   "metadata": {},
   "source": [
    "# Create and Upload a Dataset to PRP S3."
   ]
  },
  {
   "cell_type": "code",
   "execution_count": null,
   "metadata": {
    "collapsed": true
   },
   "outputs": [],
   "source": [
    "Npoints_train = 800\n",
    "Npoints_test = 200\n",
    "DATA_DIR = 'data/'\n",
    "datafile_train = 'train.tfrecord'\n",
    "datafile_test = 'test.tfrecord'\n",
    "\n",
    "S3_PROTOCOL = 's3://'\n",
    "HTTPS_PROTOCOL = 'https://'\n",
    "BUCKET_PATH = 'braingeneers/simulated/stochastic-timeseries/'"
   ]
  },
  {
   "cell_type": "code",
   "execution_count": null,
   "metadata": {
    "collapsed": true
   },
   "outputs": [],
   "source": [
    "# This just draws a loop progress bar. If you don't want it,\n",
    "# replace the import with the following:\n",
    "# tqdm = lambda: None; tqdm.tqdm = lambda x: x\n",
    "import tqdm\n",
    "\n",
    "def write_data(dataset, Npoints):\n",
    "    with tf.python_io.TFRecordWriter(dataset) as writer:\n",
    "        for i in tqdm.tqdm(range(Npoints)):\n",
    "            \n",
    "            stim_region = np.random.randint(n_probes)\n",
    "\n",
    "            # create a (100,1000) array 'states' containing timeseries\n",
    "            states = np.zeros((t_total, neurons), dtype=np.bool)\n",
    "            states[0,:] = initial_state\n",
    "            for t in range(1, t_total):\n",
    "                states[t,:] = next_state(neurons, probability_matrix, \n",
    "                                         states[t-1,:], t, stim_region)\n",
    "\n",
    "            bits = bytes(np.packbits(states[-t_meas:,:]))\n",
    "\n",
    "            writer.write(tf.train.Example(features=tf.train.Features(feature = {\n",
    "                'example': tf.train.Feature(\n",
    "                    bytes_list=tf.train.BytesList(value=[bits])),\n",
    "                'label': tf.train.Feature(\n",
    "                    int64_list=tf.train.Int64List(value=[stim_region]))\n",
    "            })).SerializeToString())"
   ]
  },
  {
   "cell_type": "code",
   "execution_count": null,
   "metadata": {},
   "outputs": [],
   "source": [
    "# Only run this one if you want to actually create a new dataset!!\n",
    "\n",
    "# Generate the dataset.\n",
    "write_data(DATA_DIR + datafile_train, Npoints_train)\n",
    "write_data(DATA_DIR + datafile_test, Npoints_test)\n",
    "\n",
    "# Save metadata.\n",
    "with open(DATA_DIR + 'metadata.json', 'w') as f:\n",
    "    f.write(json.dumps({\n",
    "        \"dataset\": \"stochastic-timeseries\",\n",
    "        \"description\": \"Timeseries of stochastic organoid model\",\n",
    "        \"labels\": list(range(n_probes)),\n",
    "        \"train_examples_name\": S3_PROTOCOL + BUCKET_PATH + datafile_train,\n",
    "        \"test_examples_name\": S3_PROTOCOL + BUCKET_PATH + datafile_test,\n",
    "        \"num_train_examples\": Npoints_train,\n",
    "        \"num_test_examples\": Npoints_test,\n",
    "        'number_of_cells': neurons,\n",
    "        'recording_time': t_meas\n",
    "    }))\n",
    "\n",
    "# Upload to S3\n",
    "!aws s3 --endpoint https://{os.getenv('S3_ENDPOINT')} \\\n",
    "    sync {DATA_DIR} s3://{BUCKET_PATH} --acl public-read "
   ]
  },
  {
   "cell_type": "markdown",
   "metadata": {},
   "source": [
    "# Read the Dataset Back from PRP S3."
   ]
  },
  {
   "cell_type": "code",
   "execution_count": 5,
   "metadata": {},
   "outputs": [
    {
     "name": "stdout",
     "output_type": "stream",
     "text": [
      "[False False False False  True False False False]\n"
     ]
    },
    {
     "data": {
      "text/plain": [
       "<matplotlib.text.Text at 0x12e495128>"
      ]
     },
     "execution_count": 5,
     "metadata": {},
     "output_type": "execute_result"
    },
    {
     "data": {
      "image/png": "[encoded data removed]",
      "text/plain": [
       "<matplotlib.figure.Figure at 0x12d33b048>"
      ]
     },
     "metadata": {},
     "output_type": "display_data"
    }
   ],
   "source": [
    "# Try reading it back....\n",
    "import requests\n",
    "import os\n",
    "metadata = requests.get(HTTPS_PROTOCOL + os.getenv('S3_ENDPOINT') + '/' + BUCKET_PATH + \"metadata.json\").json()\n",
    "dataset_train = metadata['train_examples_name']\n",
    "dataset_test = metadata['test_examples_name']\n",
    "    \n",
    "dataset_train = metadata['train_examples_name']\n",
    "dataset_test = metadata['test_examples_name']\n",
    "\n",
    "def parse_one_example(example):\n",
    "    example = tf.parse_single_example(example, features = {\n",
    "        \"example\": tf.FixedLenFeature([], tf.string),\n",
    "        \"label\": tf.FixedLenFeature([], tf.int64)\n",
    "    })\n",
    "    bits = tf.decode_raw(example['example'], tf.uint8)\n",
    "    timeseries = np.unpackbits(bits).reshape((metadata['recording_time'],\n",
    "                                              metadata['number_of_cells']))\n",
    "    return timeseries, tf.one_hot(example['label'], len(metadata['labels']))\n",
    "\n",
    "training_dataset = tf.data.TFRecordDataset([dataset_train])\n",
    "test_dataset = tf.data.TFRecordDataset([dataset_test])\n",
    "\n",
    "# Extract and display first image\n",
    "# https://www.tensorflow.org/api_guides/python/image#Encoding_and_Decoding\n",
    "example, label = parse_one_example(training_dataset.make_one_shot_iterator().get_next())\n",
    "\n",
    "plt.figure()\n",
    "print(label.numpy().astype(np.bool))\n",
    "plt.imshow(example, aspect='auto')\n",
    "plt.title('Response to input {}'.format(np.array(metadata['labels'])[label.numpy().astype(np.bool)][0]))"
   ]
  }
 ],
 "metadata": {
  "kernelspec": {
   "display_name": "Python 3",
   "language": "python",
   "name": "python3"
  },
  "language_info": {
   "codemirror_mode": {
    "name": "ipython",
    "version": 3
   },
   "file_extension": ".py",
   "mimetype": "text/x-python",
   "name": "python",
   "nbconvert_exporter": "python",
   "pygments_lexer": "ipython3",
   "version": "3.6.8"
  }
 },
 "nbformat": 4,
 "nbformat_minor": 2
}
