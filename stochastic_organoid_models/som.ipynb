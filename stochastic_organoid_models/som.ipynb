{
 "cells": [
  {
   "cell_type": "markdown",
   "metadata": {},
   "source": [
    "## Organoid simulation (credit: Mason Hargrave, modif: Lucas Seninge)\n",
    "\n",
    "This notebook is based on Mason's method to simulate organoids. It uses a stochastic model to determine which neurons will fire at t+1 based on neurons firing at t. See Mason's model description."
   ]
  },
  {
   "cell_type": "code",
   "execution_count": 2,
   "metadata": {},
   "outputs": [],
   "source": [
    "# Import modules\n",
    "import numpy as np\n",
    "np.random.seed(42)"
   ]
  },
  {
   "cell_type": "markdown",
   "metadata": {},
   "source": [
    "Added inhibitory neurons to the total population: User can pick a proportion of inhibitory neurons which will be randomly picked in the neuron vector.\n",
    "\n",
    "In the case of inhibitory neurons, neuron  $j$ firing at time  $t$ will cause neuron  $i$ to NOT fire at time  $t+1$. So we take the inverse of this probability so that in the product of $(1-p_{i,j})$ , inhibitory neurons firing will decrease the probability of neuron $i$ firing.\n",
    "\n",
    "This simple model may need refinement as the biology of neuron inhibition is slightly different.\n",
    "\n",
    "Also, we added a refractory period: if a neuron was firing at $t$, it won't be able to fire at $t+1$, no matter what the probability would have been."
   ]
  },
  {
   "cell_type": "markdown",
   "metadata": {},
   "source": [
    "## Model Initialization"
   ]
  },
  {
   "cell_type": "code",
   "execution_count": 21,
   "metadata": {},
   "outputs": [],
   "source": [
    "# Simulation parameters\n",
    "# Number of neurons\n",
    "neurons = 1000\n",
    "\n",
    "# Proportion of inhibitory neurons in the neuron population\n",
    "prop_inhib = 0.2\n",
    "# Generates a boolean array determining which neurons are inhibitory.\n",
    "inhib_idx = np.random.choice(neurons, int(prop_inhib*neurons))\n",
    "inhib = np.zeros(neurons, dtype=np.bool)\n",
    "inhib[inhib_idx] = True\n",
    "\n",
    "# Probability matrix - initialize randomly\n",
    "probability_matrix = np.random.exponential(size=(neurons,neurons), scale=0.005)\n",
    "\n",
    "# Neurons state - initialize randomly\n",
    "initial_state = np.random.random(neurons) < 0.1\n",
    "# Number of iterations - discret time steps (change to actual time?)\n",
    "time = 1100\n",
    "\n",
    "probability_matrix = probability_matrix/5 #Hacky scaling thing to stop LITERAL epiliepsy\n",
    "\n",
    "mu = lambda stim_region: 125 * stim_region + 62.5\n",
    "sigma = 12.5\n",
    "def threshold(timestep, stim_region):\n",
    "    return 1e-3 + 1e-1 * np.exp(-((np.arange(neurons) - mu(stim_region)) / sigma)**2) * (timestep < 600)"
   ]
  },
  {
   "cell_type": "markdown",
   "metadata": {},
   "source": [
    "## Optimized version of next_state"
   ]
  },
  {
   "cell_type": "code",
   "execution_count": 22,
   "metadata": {},
   "outputs": [],
   "source": [
    "def next_state(neurons, probability_matrix, previous_state, timestep, stim_region):\n",
    "    \"\"\"\n",
    "    Get new state t+1 of active/inactive neurons by using probabilities of firing.\n",
    "    \n",
    "    Args:\n",
    "        neurons (int): number of neurons to be simulated.\n",
    "        probability_matrix (np.array): probability of neuron j firing at t causing neuron i to fire at t+1.\n",
    "        previous_state (np.array): vector of neuron states at t .\n",
    "        \n",
    "    Returns:\n",
    "        next_state (np.array): vector of neuron states at t+1.\n",
    "    \"\"\"\n",
    "    # Probability that cell j will NOT affect cell i.\n",
    "    # Restrict attention to cells that are firing.\n",
    "    anti_probability_matrix = 1 - probability_matrix[:,previous_state]\n",
    "    # Take product over the two cell types separately.\n",
    "    # Use indexing instead of masked arrays because faster.\n",
    "    inh_prod = np.prod(anti_probability_matrix[:,inhib[previous_state]], axis=1)\n",
    "    exc_prod = np.prod(anti_probability_matrix[:,~inhib[previous_state]], axis=1)\n",
    "    expectation_values = (1 - exc_prod) * inh_prod\n",
    "    \n",
    "    expectation_values[np.random.random(neurons) < threshold(timestep, stim_region)] = 1\n",
    "    \n",
    "    return (np.random.random(neurons) < expectation_values) & (previous_state==0)"
   ]
  },
  {
   "cell_type": "code",
   "execution_count": 23,
   "metadata": {},
   "outputs": [
    {
     "name": "stdout",
     "output_type": "stream",
     "text": [
      "CPU times: user 415 ms, sys: 4.06 ms, total: 419 ms\n",
      "Wall time: 251 ms\n"
     ]
    }
   ],
   "source": [
    "%%time\n",
    "states= np.zeros((time+1, neurons), dtype=np.bool)\n",
    "states[0,:] = initial_state\n",
    "for t in range(time):\n",
    "    states[t+1,:] = next_state(neurons, probability_matrix, states[t,:], t, 1)"
   ]
  },
  {
   "cell_type": "code",
   "execution_count": 28,
   "metadata": {},
   "outputs": [
    {
     "data": {
      "image/png": "[encoded data removed]",
      "text/plain": [
       "<Figure size 720x1440 with 1 Axes>"
      ]
     },
     "metadata": {
      "needs_background": "light"
     },
     "output_type": "display_data"
    }
   ],
   "source": [
    "%matplotlib inline\n",
    "import matplotlib.pyplot as plt\n",
    "plt.figure(figsize=(10,20))\n",
    "plt.imshow(states.T[:,550:650], aspect='auto')\n",
    "plt.xlabel(\"Time\")\n",
    "plt.ylabel(\"Neuron\")\n",
    "plt.title(\"Neuron Firings Over Time\")\n",
    "plt.savefig('my-version.png')"
   ]
  },
  {
   "cell_type": "code",
   "execution_count": 35,
   "metadata": {},
   "outputs": [],
   "source": [
    "t_stop = 1000\n",
    "t_snap = 1100\n",
    "\n",
    "Npoints_train = 8\n",
    "Npoints_test = 2\n",
    "dataset_train = 'train.tfrecord'\n",
    "dataset_test = 'test.tfrecord'"
   ]
  },
  {
   "cell_type": "code",
   "execution_count": 37,
   "metadata": {},
   "outputs": [
    {
     "ename": "ModuleNotFoundError",
     "evalue": "No module named 'tensorflow'",
     "output_type": "error",
     "traceback": [
      "\u001b[0;31m---------------------------------------------------------------------------\u001b[0m",
      "\u001b[0;31mModuleNotFoundError\u001b[0m                       Traceback (most recent call last)",
      "\u001b[0;32m<ipython-input-37-5920320df184>\u001b[0m in \u001b[0;36m<module>\u001b[0;34m\u001b[0m\n\u001b[0;32m----> 1\u001b[0;31m \u001b[0;32mimport\u001b[0m \u001b[0mtensorflow\u001b[0m \u001b[0;32mas\u001b[0m \u001b[0mtf\u001b[0m\u001b[0;34m\u001b[0m\u001b[0;34m\u001b[0m\u001b[0m\n\u001b[0m\u001b[1;32m      2\u001b[0m \u001b[0;34m\u001b[0m\u001b[0m\n\u001b[1;32m      3\u001b[0m \u001b[0;31m# This just draws a loop progress bar. If you don't want it,\u001b[0m\u001b[0;34m\u001b[0m\u001b[0;34m\u001b[0m\u001b[0;34m\u001b[0m\u001b[0m\n\u001b[1;32m      4\u001b[0m \u001b[0;31m# replace the import with the following:\u001b[0m\u001b[0;34m\u001b[0m\u001b[0;34m\u001b[0m\u001b[0;34m\u001b[0m\u001b[0m\n\u001b[1;32m      5\u001b[0m \u001b[0;31m# tqdm = lambda: None; tqdm.tqdm = lambda x: x\u001b[0m\u001b[0;34m\u001b[0m\u001b[0;34m\u001b[0m\u001b[0;34m\u001b[0m\u001b[0m\n",
      "\u001b[0;31mModuleNotFoundError\u001b[0m: No module named 'tensorflow'"
     ]
    }
   ],
   "source": [
    "import tensorflow as tf\n",
    "\n",
    "# This just draws a loop progress bar. If you don't want it,\n",
    "# replace the import with the following:\n",
    "# tqdm = lambda: None; tqdm.tqdm = lambda x: x\n",
    "import tqdm\n",
    "\n",
    "def write_data(dataset, Npoints):\n",
    "    with tf.python_io.TFRecordWriter(dataset) as writer:\n",
    "        for i in tqdm.tqdm(range(Npoints)):\n",
    "            \n",
    "            stim_region = np.random.randint(8)\n",
    "            \n",
    "            # create a (100,1000) array 'states' containing timeseries\n",
    "            states = np.zeros((t_stop, neurons), dtype=np.bool)\n",
    "            states[0,:] = initial_state\n",
    "            for t in range(1, t_snap):\n",
    "                states[t,:] = next_state(neurons, probability_matrix, states[t-1,:], t, stim_region)\n",
    "\n",
    "            bits = bytes(np.packbits(states[t_stop:,:]))\n",
    "\n",
    "            writer.write(tf.train.Example(features=tf.train.Features(feature = {\n",
    "                'example': tf.train.Feature(bytes_list=tf.train.BytesList(value=[bits])),\n",
    "                'label': tf.train.Feature(int64_list=tf.train.Int64List(value=[int(pattern)]))\n",
    "            })).SerializeToString())\n",
    "            \n",
    "write_data(dataset_train, Npoints_train)\n",
    "write_data(dataset_test, Npoints_test)"
   ]
  },
  {
   "cell_type": "code",
   "execution_count": null,
   "metadata": {},
   "outputs": [],
   "source": []
  }
 ],
 "metadata": {
  "kernelspec": {
   "display_name": "Python 3",
   "language": "python",
   "name": "python3"
  },
  "language_info": {
   "codemirror_mode": {
    "name": "ipython",
    "version": 3
   },
   "file_extension": ".py",
   "mimetype": "text/x-python",
   "name": "python",
   "nbconvert_exporter": "python",
   "pygments_lexer": "ipython3",
   "version": "3.7.1"
  }
 },
 "nbformat": 4,
 "nbformat_minor": 2
}
